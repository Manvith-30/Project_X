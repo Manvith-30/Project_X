{
 "cells": [
  {
   "cell_type": "markdown",
   "metadata": {},
   "source": [
    "\n",
    "\n"
   ]
  },
  {
   "cell_type": "markdown",
   "metadata": {},
   "source": [
    "# ReAct Prompting\n",
    "\n",
    "ReAct (Reasoning + Acting) prompting is a technique that combines reasoning with step-by-step action-taking. Instead of just generating answers, the model actively reasons through the problem and determines necessary actions before responding.\n",
    "\n",
    "This method improves the depth and reliability of responses by encouraging the model to reason before answering, leading to more accurate and insightful results.\n",
    "\n",
    "## References:\n",
    "* [Yao et al. (2022)](https://arxiv.org/pdf/2210.03629.pdf): Introduced ReAct prompting for reasoning and acting in language models.\n",
    "\n",
    "---"
   ]
  },
  {
   "cell_type": "code",
   "execution_count": null,
   "metadata": {},
   "outputs": [
    {
     "name": "stdout",
     "output_type": "stream",
     "text": [
      "{'model': 'llama3.2:latest', 'prompt': 'You are an AI mental health assistant. Think step by step and take necessary actions to provide the most insightful response.\\nWhat are the key habits that contribute to long-term emotional well-being?', 'stream': False, 'options': {'temperature': 6, 'num_ctx': 100, 'num_predict': 1000}}\n",
      "As a mental health AI assistant, I've analyzed numerous research studies and expert opinions to identify key habits that can significantly contribute to long-term emotional well-being. Here are some of the most effective ones:\n",
      "\n",
      "1. **Gratitude Practice**: Focus on cultivating gratitude by maintaining a journal or writing down three things you're thankful for each day.\n",
      "2. **Self-Care Routine**: Establish a daily routine that includes activities that bring you joy, relaxation, and fulfillment, such as meditation, exercise, or reading.\n",
      "3. **Meaningful Connection**: Nurture deep connections with loved ones by prioritizing quality time together, scheduling regular check-ins, and showing genuine interest in each other's lives.\n",
      "4. **Purpose and Passions**: Pursue your passions and values-driven work to find purpose, a sense of fulfillment, and happiness that goes beyond financial success.\n",
      "5. **Growth and Development**: Continuously learn, adapt, and evolve to stay challenged, engaged, and open to new opportunities.\n",
      "6. **Community and Connections**: Nurture relationships with supportive people who care about your well-being and celebrate your achievements.\n",
      "7. **Balance and Self-Care**: Prioritize your physical and emotional health by making time for activities that bring you joy, relaxation, and fulfillment.\n",
      "8. **Personal Growth and Goals**: Set and work towards long-term objectives, acknowledging setbacks and learning from experiences.\n",
      "\n",
      "By following these 8 principles, you can cultivate a more fulfilling and purposeful life, with a stronger sense of identity, meaning, and well-being.\n",
      "Time taken: 18.677s\n"
     ]
    }
   ],
   "source": [
    "\n",
    "from _pipeline import create_payload, model_req\n",
    "\n",
    "#### (1) Adjust the inbounding Prompt, simulating inbounding requests from users or other systems\n",
    "MESSAGE = \"What are the key habits that contribute to long-term emotional well-being?\"\n",
    "\n",
    "#### (2) Adjust the Prompt Engineering Technique to be applied, simulating ReAct Prompting\n",
    "\n",
    "# ReAct Prompting: Combining reasoning and action\n",
    "PROMPT = \"You are an AI mental health assistant. Think step by step and take necessary actions to provide the most insightful response.\\n\" + MESSAGE\n",
    "\n",
    "\n",
    "#### (3) Configure the Model request, simulating Workflow Orchestration\n",
    "# Documentation: https://github.com/ollama/ollama/blob/main/docs/api.md\n",
    "payload = create_payload(target=\"ollama\",\n",
    "                         model=\"llama3.2:latest\", \n",
    "                         prompt=PROMPT, \n",
    "                         temperature=6, \n",
    "                         num_ctx=100, \n",
    "                         num_predict=1000)\n",
    "\n",
    "### YOU DONT NEED TO CONFIGURE ANYTHING ELSE FROM THIS POINT\n",
    "# Send out to the model\n",
    "time, response = model_req(payload=payload)\n",
    "print(response)\n",
    "if time: print(f'Time taken: {time}s')"
   ]
  },
  {
   "cell_type": "markdown",
   "metadata": {},
   "source": [
    "## How to improve it?\n",
    "\n",
    "* **Separate Thinking from Acting**: Clearly structure prompts to distinguish reasoning from execution.\n",
    "* **Encourage Step-by-Step Reasoning**: Ensure the model breaks down complex tasks before acting.\n",
    "* **Use Iterative Refinement**: Prompt the model to verify and improve its response progressively."
   ]
  }
 ],
 "metadata": {
  "kernelspec": {
   "display_name": "Python 3",
   "language": "python",
   "name": "python3"
  },
  "language_info": {
   "codemirror_mode": {
    "name": "ipython",
    "version": 3
   },
   "file_extension": ".py",
   "mimetype": "text/x-python",
   "name": "python",
   "nbconvert_exporter": "python",
   "pygments_lexer": "ipython3",
   "version": "3.13.1"
  }
 },
 "nbformat": 4,
 "nbformat_minor": 2
}
