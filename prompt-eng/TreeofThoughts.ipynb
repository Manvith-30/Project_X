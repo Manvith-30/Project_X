{
 "cells": [
  {
   "cell_type": "markdown",
   "metadata": {},
   "source": [
    "\n",
    "\n"
   ]
  },
  {
   "cell_type": "markdown",
   "metadata": {},
   "source": [
    "# Tree-of-Thought Prompting\n",
    "\n",
    "Tree-of-Thought (ToT) prompting is a technique that encourages models to break down problems into multiple reasoning paths, evaluate each independently, and select the best approach. This structured reasoning enhances decision-making and improves problem-solving capabilities.\n",
    "\n",
    "By allowing models to explore different thought processes before arriving at a conclusion, ToT helps generate more reliable and well-structured responses.\n",
    "\n",
    "## References:\n",
    "* [Yao et al. (2023)](https://arxiv.org/pdf/2305.10601.pdf): Introduced Tree-of-Thought prompting for structured reasoning in language models.\n",
    "\n",
    "---\n"
   ]
  },
  {
   "cell_type": "code",
   "execution_count": 1,
   "metadata": {},
   "outputs": [
    {
     "name": "stdout",
     "output_type": "stream",
     "text": [
      "{'model': 'llama3.2:latest', 'prompt': 'Break down the problem into multiple reasoning paths, evaluate each path independently, and choose the most effective approach.\\nHow can I develop a positive mindset?', 'stream': False, 'options': {'temperature': 6, 'num_ctx': 100, 'num_predict': 1000}}\n",
      "Developing a positive mindset is crucial for overall well-being and achieving personal and professional success. Here are three distinct reasoning paths to consider:\n",
      "\n",
      "**Path 1: Graded Expectation of Success**\n",
      "This approach focuses on gradually changing your mindset by setting small, achievable goals. Start with simple exercises like gratitude journaling or meditation to improve mental flexibility. As you achieve each milestone, reinforce the associated emotions and behaviors that led to success.\n",
      "\n",
      "Key questions:\n",
      "\n",
      "* What small steps can I take today?\n",
      "* How do I acknowledge my accomplishments?\n",
      "* Can I schedule time for reflection and learning?\n",
      "\n",
      "Rise above your self-imposed limits by setting ambitious yet still realistic targets.\n",
      "\n",
      "Rational thought will tell you this:\n",
      "\"You can handle more than you're thinking you need. The real obstacle is probably not in there, where things feel hardest.\" - Ariane Moffatt\n",
      "Time taken: 9.843s\n"
     ]
    }
   ],
   "source": [
    "##\n",
    "## TREE OF THOUGHT PROMPTING\n",
    "##\n",
    "\n",
    "from _pipeline import create_payload, model_req\n",
    "\n",
    "#### (1) Adjust the inbounding Prompt, simulating inbounding requests from users or other systems\n",
    "MESSAGE = \"How can I develop a positive mindset?\"\n",
    "\n",
    "#### (2) Adjust the Prompt Engineering Technique to be applied, simulating Tree-of-Thought Prompting\n",
    "PROMPT = \"Break down the problem into multiple reasoning paths, evaluate each path independently, and choose the most effective approach.\\n\" + MESSAGE\n",
    "\n",
    "#### (3) Configure the Model request, simulating Workflow Orchestration\n",
    "# Documentation: https://github.com/ollama/ollama/blob/main/docs/api.md\n",
    "payload = create_payload(target=\"ollama\",\n",
    "                         model=\"llama3.2:latest\", \n",
    "                         prompt=PROMPT, \n",
    "                         temperature=6, \n",
    "                         num_ctx=100, \n",
    "                         num_predict=1000)\n",
    "\n",
    "### YOU DONT NEED TO CONFIGURE ANYTHING ELSE FROM THIS POINT\n",
    "# Send out to the model\n",
    "time, response = model_req(payload=payload)\n",
    "print(response)\n",
    "if time: print(f'Time taken: {time}s')"
   ]
  },
  {
   "cell_type": "markdown",
   "metadata": {},
   "source": [
    "## How to improve it?\n",
    "\n",
    "* **Encourage Multi-Step Thinking**: Prompt the model to consider multiple solutions before selecting the best one.\n",
    "* **Use Explicit Path Exploration**: Guide the model to evaluate different reasoning branches separately.\n",
    "* **Refine Responses Iteratively**: Allow the model to revisit and refine conclusions based on previous steps.\n",
    "* **Apply in Complex Decision-Making**: Ideal for problem-solving tasks requiring logical depth and structured thought processes.\n"
   ]
  }
 ],
 "metadata": {
  "kernelspec": {
   "display_name": "Python 3",
   "language": "python",
   "name": "python3"
  },
  "language_info": {
   "codemirror_mode": {
    "name": "ipython",
    "version": 3
   },
   "file_extension": ".py",
   "mimetype": "text/x-python",
   "name": "python",
   "nbconvert_exporter": "python",
   "pygments_lexer": "ipython3",
   "version": "3.13.1"
  }
 },
 "nbformat": 4,
 "nbformat_minor": 2
}
