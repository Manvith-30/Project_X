{
 "cells": [
  {
   "cell_type": "markdown",
   "metadata": {},
   "source": [
    "\n",
    "\n"
   ]
  },
  {
   "cell_type": "markdown",
   "metadata": {},
   "source": [
    "# Debate Prompting\n",
    "\n",
    "Debate prompting is a technique where a model generates multiple perspectives on a topic and engages in a simulated debate. This approach helps in exploring diverse viewpoints, refining arguments, and reaching well-reasoned conclusions.\n",
    "\n",
    "By challenging different perspectives, debate prompting improves critical thinking and enhances the model’s ability to reason about complex topics.\n",
    "\n",
    "## References:\n",
    "* [Dinan et al. (2019)](https://arxiv.org/pdf/1903.06425.pdf): Explores dialogue-based AI models and argumentation through debate prompting.\n",
    "\n"
   ]
  },
  {
   "cell_type": "code",
   "execution_count": 1,
   "metadata": {},
   "outputs": [
    {
     "name": "stdout",
     "output_type": "stream",
     "text": [
      "{'model': 'llama3.2:latest', 'prompt': 'You are two AI mental health experts with opposing views. One argues for mindfulness, the other for exercise. Debate the benefits and conclude with a balanced perspective.\\nIs mindfulness more effective than exercise for mental well-being?', 'stream': False, 'options': {'temperature': 6, 'num_ctx': 100, 'num_predict': 1000}}\n",
      "Moderator: Welcome to today's debate on mindfulness versus exercise for mental well-being. We have Dr. Maria, who advocates for the benefits of mindfulness, and Dr. Jack, who is a strong proponent of exercise as a key factor in maintaining mental health. Let's begin with our first speaker, Dr. Maria.\n",
      "\n",
      "Dr. Maria: Thank you. Mindfulness practices such as meditation, deep breathing, and yoga have been consistently shown to reduce symptoms of anxiety and depression, improve emotional regulation, and enhance overall well-being. These techniques are accessible to anyone, regardless of age or physical ability, and can be incorporated into daily life in short, manageable moments.\n",
      "\n",
      "Moreover, regular mindfulness practice has been linked to lower stress levels, improved cognitive function, and even better relationships with others. It's not just about feeling more calm or relaxed; it's also about increasing our sense of self-awareness, clarity, and connection to ourselves and those around us.\n",
      "\n",
      "Many people find that adopting a regular mindfulness practice can have profound effects on both mental and emotional well-being. So whether you're looking to reduce stress, improve relationships, boost motivation, or cultivate a greater sense of calm and focus, integrating mindfulness into your daily routine is an excellent investment in your long-term happiness and well-being.\n",
      "\n",
      "To begin practicing mindfulness, it's recommended that you try activities such as:\n",
      "Time taken: 14.759s\n"
     ]
    }
   ],
   "source": [
    "##\n",
    "## DEBATE PROMPTING\n",
    "##\n",
    "\n",
    "from _pipeline import create_payload, model_req\n",
    "\n",
    "#### (1) Adjust the inbounding Prompt, simulating inbounding requests from users or other systems\n",
    "MESSAGE = \"Is mindfulness more effective than exercise for mental well-being?\"\n",
    "\n",
    "#### (2) Adjust the Prompt Engineering Technique to be applied, simulating Debate Prompting\n",
    "PROMPT = \"You are two AI mental health experts with opposing views. One argues for mindfulness, the other for exercise. Debate the benefits and conclude with a balanced perspective.\\n\" + MESSAGE\n",
    "\n",
    "#### (3) Configure the Model request, simulating Workflow Orchestration\n",
    "# Documentation: https://github.com/ollama/ollama/blob/main/docs/api.md\n",
    "payload = create_payload(target=\"ollama\",\n",
    "                         model=\"llama3.2:latest\", \n",
    "                         prompt=PROMPT, \n",
    "                         temperature=6, \n",
    "                         num_ctx=100, \n",
    "                         num_predict=1000)\n",
    "\n",
    "### YOU DONT NEED TO CONFIGURE ANYTHING ELSE FROM THIS POINT\n",
    "# Send out to the model\n",
    "time, response = model_req(payload=payload)\n",
    "print(response)\n",
    "if time: print(f'Time taken: {time}s')"
   ]
  },
  {
   "cell_type": "markdown",
   "metadata": {},
   "source": [
    "## How to improve it?\n",
    "\n",
    "* **Encourage Opposing Viewpoints**: Ensure the model generates contrasting perspectives to enrich the debate.\n",
    "* **Facilitate Rebuttals**: Guide the model to critique and refine arguments iteratively.\n",
    "* **Conclude with a Balanced Summary**: Prompt the model to synthesize insights from both sides.\n",
    "* **Use Real-World Scenarios**: Improve relevance by debating practical, real-world dilemmas."
   ]
  }
 ],
 "metadata": {
  "kernelspec": {
   "display_name": "Python 3",
   "language": "python",
   "name": "python3"
  },
  "language_info": {
   "codemirror_mode": {
    "name": "ipython",
    "version": 3
   },
   "file_extension": ".py",
   "mimetype": "text/x-python",
   "name": "python",
   "nbconvert_exporter": "python",
   "pygments_lexer": "ipython3",
   "version": "3.13.1"
  }
 },
 "nbformat": 4,
 "nbformat_minor": 2
}
