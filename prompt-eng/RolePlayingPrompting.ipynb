{
 "cells": [
  {
   "cell_type": "markdown",
   "metadata": {},
   "source": [
    "\n",
    "\n"
   ]
  },
  {
   "cell_type": "markdown",
   "metadata": {},
   "source": [
    "# Role-Playing Prompting\n",
    "\n",
    "Role-playing prompting is a technique where the model assumes different personas to answer a question from multiple perspectives. This approach enhances creativity, adaptability, and provides diverse insights into a topic.\n",
    "\n",
    "By simulating different roles, role-playing prompting allows for nuanced, contextual responses that cater to specific audience needs.\n",
    "\n",
    "## References:\n",
    "* [Brown et al. (2020)](https://arxiv.org/pdf/2005.14165.pdf): Explores role-playing in AI models to improve contextual understanding.\n",
    "\n"
   ]
  },
  {
   "cell_type": "code",
   "execution_count": 1,
   "metadata": {},
   "outputs": [
    {
     "name": "stdout",
     "output_type": "stream",
     "text": [
      "{'model': 'llama3.2:latest', 'prompt': 'You are a mental health coach. Answer the question from three different perspectives: (1) A therapist, (2) A motivational speaker, and (3) A mindfulness guru. Provide distinct responses for each.\\nHow can someone build resilience in difficult times?', 'stream': False, 'options': {'temperature': 6, 'num_ctx': 100, 'num_predict': 1000}}\n",
      "I'll respond from the perspectives of a Therapist, a Motivational Speaker, and a Mindfulness Guru.\n",
      "\n",
      "**Therapist:**\n",
      "\n",
      "Building resilience is an important coping mechanism, especially during difficult times. Resilience involves having the emotional strength and capacity to navigate challenges, maintain our well-being, and come out even stronger on the other side. As a therapist, I work with clients to identify the sources of stress and anxiety in their lives, helping them develop a plan to mitigate those issues.\n",
      "\n",
      "Some key components of building resilience include:\n",
      "\n",
      "1. Identifying coping mechanisms: What skills or strategies do you use when faced with stress?\n",
      "2. Self-care: Make time for activities that nourish your mind, body, and soul.\n",
      "3. Building support networks: Surround yourself with positive people who encourage and uplift you.\n",
      "4. Seeking professional help when needed: Recognize when you need assistance and seek out qualified professionals.\n",
      "\n",
      "These are just a few ways to maintain good mental health\n",
      "Time taken: 11.648s\n"
     ]
    }
   ],
   "source": [
    "##\n",
    "## ROLE-PLAYING PROMPTING\n",
    "##\n",
    "\n",
    "from _pipeline import create_payload, model_req\n",
    "\n",
    "#### (1) Adjust the inbounding Prompt, simulating inbounding requests from users or other systems\n",
    "MESSAGE = \"How can someone build resilience in difficult times?\"\n",
    "\n",
    "#### (2) Adjust the Prompt Engineering Technique to be applied, simulating Role-Playing Prompting\n",
    "PROMPT = \"You are a mental health coach. Answer the question from three different perspectives: (1) A therapist, (2) A motivational speaker, and (3) A mindfulness guru. Provide distinct responses for each.\\n\" + MESSAGE\n",
    "\n",
    "\n",
    "#### (3) Configure the Model request, simulating Workflow Orchestration\n",
    "# Documentation: https://github.com/ollama/ollama/blob/main/docs/api.md\n",
    "payload = create_payload(target=\"ollama\",\n",
    "                         model=\"llama3.2:latest\", \n",
    "                         prompt=PROMPT, \n",
    "                         temperature=6, \n",
    "                         num_ctx=100, \n",
    "                         num_predict=1000)\n",
    "\n",
    "### YOU DONT NEED TO CONFIGURE ANYTHING ELSE FROM THIS POINT\n",
    "# Send out to the model\n",
    "time, response = model_req(payload=payload)\n",
    "print(response)\n",
    "if time: print(f'Time taken: {time}s')"
   ]
  },
  {
   "cell_type": "markdown",
   "metadata": {},
   "source": [
    "## How to improve it?\n",
    "\n",
    "* **Define Clear Roles**: Assign distinct personas to provide varied responses.\n",
    "* **Maintain Consistency**: Ensure each role maintains its unique perspective.\n",
    "* **Encourage Interaction**: Have the roles engage with one another for richer discussions.\n",
    "* **Use Scenario-Based Prompts**: Apply real-world contexts for more practical insights.\n"
   ]
  }
 ],
 "metadata": {
  "kernelspec": {
   "display_name": "Python 3",
   "language": "python",
   "name": "python3"
  },
  "language_info": {
   "codemirror_mode": {
    "name": "ipython",
    "version": 3
   },
   "file_extension": ".py",
   "mimetype": "text/x-python",
   "name": "python",
   "nbconvert_exporter": "python",
   "pygments_lexer": "ipython3",
   "version": "3.13.1"
  }
 },
 "nbformat": 4,
 "nbformat_minor": 2
}
